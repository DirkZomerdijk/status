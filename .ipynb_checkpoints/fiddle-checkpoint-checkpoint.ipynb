{
 "cells": [
  {
   "cell_type": "code",
   "execution_count": 23,
   "metadata": {},
   "outputs": [],
   "source": [
    "import numpy as np\n",
    "import matplotlib.pyplot as plt\n",
    "from scipy.spatial.distance import euclidean\n",
    "import itertools \n"
   ]
  },
  {
   "cell_type": "code",
   "execution_count": 17,
   "metadata": {},
   "outputs": [
    {
     "data": {
      "text/plain": [
       "1.02469507659596"
      ]
     },
     "execution_count": 17,
     "metadata": {},
     "output_type": "execute_result"
    }
   ],
   "source": [
    "a = [[0,0,0],[1,1,1]]"
   ]
  },
  {
   "cell_type": "code",
   "execution_count": 18,
   "metadata": {},
   "outputs": [
    {
     "data": {
      "text/plain": [
       "1.02469507659596"
      ]
     },
     "execution_count": 18,
     "metadata": {},
     "output_type": "execute_result"
    }
   ],
   "source": [
    "euclidean(a,b)"
   ]
  },
  {
   "cell_type": "code",
   "execution_count": 43,
   "metadata": {},
   "outputs": [
    {
     "data": {
      "text/plain": [
       "47"
      ]
     },
     "execution_count": 43,
     "metadata": {},
     "output_type": "execute_result"
    }
   ],
   "source": [
    "a = [0.02929688, 0.05859377, 0.08789065, 0.11718754, 0.14307873, 0.16896992,\n",
    " 0.19145541, 0.21280568, 0.23415594, 0.25550621, 0.27685648, 0.29820674,\n",
    " 0.31955701, 0.34020823, 0.36085945, 0.38151067, 0.40216189, 0.42281311,\n",
    " 0.44346433, 0.46411555, 0.48476677, 0.50541799, 0.52606921, 0.54672044,\n",
    " 0.56737166, 0.58802288, 0.6086741,  0.62932532, 0.64997654, 0.67062776,\n",
    " 0.69127898, 0.7119302,  0.73258142, 0.75323264, 0.77388386, 0.79271443,\n",
    " 0.811545,   0.83037557, 0.84920614, 0.86803671, 0.88686728, 0.90322054,\n",
    " 0.91957379, 0.93592705, 0.95228031, 0.96532316, 0.97759157, 0.98959713,\n",
    " 1.,         1.        ]\n",
    "target = 0.979127490958217\n",
    "find_nearest_above(np.array(a), target)\n"
   ]
  },
  {
   "cell_type": "code",
   "execution_count": 44,
   "metadata": {},
   "outputs": [
    {
     "data": {
      "text/plain": [
       "47"
      ]
     },
     "execution_count": 44,
     "metadata": {},
     "output_type": "execute_result"
    }
   ],
   "source": [
    "np.searchsorted(a,[target,],side='right')[0]"
   ]
  },
  {
   "cell_type": "code",
   "execution_count": 28,
   "metadata": {},
   "outputs": [
    {
     "data": {
      "text/plain": [
       "[(1, 2), (1, 3), (2, 3)]"
      ]
     },
     "execution_count": 28,
     "metadata": {},
     "output_type": "execute_result"
    }
   ],
   "source": [
    "a_list = [1, 2, 3]\n",
    "r=2\n",
    "list(itertools.combinations(a_list, r))"
   ]
  }
 ],
 "metadata": {
  "kernelspec": {
   "display_name": "Python 3",
   "language": "python",
   "name": "python3"
  },
  "language_info": {
   "codemirror_mode": {
    "name": "ipython",
    "version": 3
   },
   "file_extension": ".py",
   "mimetype": "text/x-python",
   "name": "python",
   "nbconvert_exporter": "python",
   "pygments_lexer": "ipython3",
   "version": "3.7.6"
  }
 },
 "nbformat": 4,
 "nbformat_minor": 4
}
