{
 "cells": [
  {
   "cell_type": "code",
   "execution_count": 3,
   "metadata": {},
   "outputs": [],
   "source": [
    "import numpy as np\n",
    "import matplotlib.pyplot as plt"
   ]
  },
  {
   "cell_type": "code",
   "execution_count": 21,
   "metadata": {},
   "outputs": [
    {
     "name": "stdout",
     "output_type": "stream",
     "text": [
      "0.0007497409632675478 0.9999935547608422\n",
      "0.01798620996209156 0.999983298578152\n",
      "0.0066928509242848554 0.9999546021312976\n"
     ]
    },
    {
     "data": {
      "text/plain": [
       "Text(0.5, 1.0, 'Calculate stress based on status difference')"
      ]
     },
     "execution_count": 21,
     "metadata": {},
     "output_type": "execute_result"
    },
    {
     "data": {
      "image/png": "[encoded data removed]",
      "text/plain": [
       "<Figure size 432x288 with 1 Axes>"
      ]
     },
     "metadata": {
      "needs_background": "light"
     },
     "output_type": "display_data"
    }
   ],
   "source": [
    "\n",
    "def sigmoid_stress1(x):\n",
    "    x_null = 3 \n",
    "    L = 1.049\n",
    "    k = 1\n",
    "    return -0.049 + L/(1+np.exp(-k*(x-x_null)))\n",
    "\n",
    "def sigmoid_stress2(x):\n",
    "    x_null = 4 \n",
    "    L = 1\n",
    "    k = 1\n",
    "    return L/(1+np.exp(-k*(x-x_null)))\n",
    "\n",
    "def sigmoid_stress3(x):\n",
    "    x_null = 5 \n",
    "    L = 1\n",
    "    k = 1\n",
    "    return L/(1+np.exp(-k*(x-x_null)))\n",
    "\n",
    "def sigmoid_stress4(x):\n",
    "    x_null = 6 \n",
    "    L = 1\n",
    "    k = 1\n",
    "    return L/(1+np.exp(-k*(x-x_null)))\n",
    "\n",
    "def sigmoid_stress5(x):\n",
    "    x_null = 7 \n",
    "    L = 1\n",
    "    k = 1\n",
    "    return L/(1+np.exp(-k*(x-x_null)))\n",
    "\n",
    "\n",
    "\n",
    "x = np.linspace(0, 15, 100)\n",
    "print(sigmoid_stress1(x)[0], sigmoid_stress1(x)[-1])\n",
    "print(sigmoid_stress2(x)[0], sigmoid_stress2(x)[-1])\n",
    "print(sigmoid_stress3(x)[0], sigmoid_stress3(x)[-1])\n",
    "\n",
    "plt.plot(x , sigmoid_stress1(x))\n",
    "# plt.plot(x , sigmoid_stress2(x))\n",
    "# plt.plot(x , sigmoid_stress3(x))\n",
    "# plt.plot(x , sigmoid_stress4(x))\n",
    "# plt.plot(x , sigmoid_stress5(x))\n",
    "\n",
    "plt.xlabel(\"status difference\")\n",
    "plt.ylabel(\"stress\")\n",
    "plt.title(\"Calculate stress based on status difference\")"
   ]
  },
  {
   "cell_type": "code",
   "execution_count": null,
   "metadata": {},
   "outputs": [],
   "source": []
  },
  {
   "cell_type": "code",
   "execution_count": null,
   "metadata": {},
   "outputs": [],
   "source": []
  },
  {
   "cell_type": "code",
   "execution_count": null,
   "metadata": {},
   "outputs": [],
   "source": []
  },
  {
   "cell_type": "code",
   "execution_count": 79,
   "metadata": {},
   "outputs": [
    {
     "name": "stdout",
     "output_type": "stream",
     "text": [
      "0.0008498488770252166 1.0028428090965436\n"
     ]
    },
    {
     "data": {
      "text/plain": [
       "Text(0.5, 1.0, 'vulnerability as function of Accumulated stress')"
      ]
     },
     "execution_count": 79,
     "metadata": {},
     "output_type": "execute_result"
    },
    {
     "data": {
      "image/png": "[encoded data removed]",
      "text/plain": [
       "<Figure size 432x288 with 1 Axes>"
      ]
     },
     "metadata": {
      "needs_background": "light"
     },
     "output_type": "display_data"
    }
   ],
   "source": [
    "# def sigmoid_vul1(x):\n",
    "#     x_null = 2 \n",
    "#     L = 1\n",
    "#     k = 1.5\n",
    "#     return  L/(1+np.exp(-k*(x-x_null)))\n",
    "\n",
    "# def sigmoid_vul2(x):\n",
    "#     x_null = 3 \n",
    "#     L = 1\n",
    "#     k = 1\n",
    "#     return  L/(1+np.exp(-k*(x-x_null)))\n",
    "\n",
    "def sigmoid_vul3(x):\n",
    "    x_null = 4 \n",
    "    L = 1.043\n",
    "    k = .8\n",
    "    return -0.04 + L/(1+np.exp(-k*(x-x_null)))\n",
    "\n",
    "# x = np.arange(0, 10)\n",
    "x = np.linspace(0,15,100)\n",
    "# print(sigmoid_vul1(x)[0], sigmoid_vul1(x)[-1])\n",
    "# print(sigmoid_vul2(x)[0], sigmoid_vul2(x)[-1])\n",
    "print(sigmoid_vul3(x)[0], sigmoid_vul3(x)[-1])\n",
    "# print(sigmoid_vul4(x)[0], sigmoid_vul4(x)[-1])\n",
    "\n",
    "\n",
    "\n",
    "# plt.plot(x , sigmoid_vul1(x))\n",
    "# plt.plot(x , sigmoid_vul2(x))\n",
    "plt.plot(x , sigmoid_vul3(x))\n",
    "# plt.plot(x , sigmoid_vul4(x))\n",
    "\n",
    "\n",
    "\n",
    "plt.xlabel(\"Accumulated stress\")\n",
    "plt.ylabel(\"vulnerability\")\n",
    "plt.title(\"vulnerability as function of Accumulated stress\")"
   ]
  },
  {
   "cell_type": "code",
   "execution_count": 5,
   "metadata": {},
   "outputs": [
    {
     "data": {
      "text/plain": [
       "'0.0000259'"
      ]
     },
     "execution_count": 5,
     "metadata": {},
     "output_type": "execute_result"
    }
   ],
   "source": [
    "num = 2.58731776e-05\n",
    "\"{:.7f}\".format(num)"
   ]
  },
  {
   "cell_type": "code",
   "execution_count": 23,
   "metadata": {},
   "outputs": [
    {
     "data": {
      "text/plain": [
       "True"
      ]
     },
     "execution_count": 23,
     "metadata": {},
     "output_type": "execute_result"
    }
   ],
   "source": [
    "import os\n",
    "os.path.exists(\"./results/debug\")"
   ]
  },
  {
   "cell_type": "code",
   "execution_count": null,
   "metadata": {},
   "outputs": [],
   "source": [
    "if not os.path.exists(\"./results/\"+ args[\"save_folder\"]):\n",
    "    os.mkdir(\"./results/\"+ args[\"save_folder\"])"
   ]
  }
 ],
 "metadata": {
  "kernelspec": {
   "display_name": "Python 3",
   "language": "python",
   "name": "python3"
  },
  "language_info": {
   "codemirror_mode": {
    "name": "ipython",
    "version": 3
   },
   "file_extension": ".py",
   "mimetype": "text/x-python",
   "name": "python",
   "nbconvert_exporter": "python",
   "pygments_lexer": "ipython3",
   "version": "3.7.6"
  }
 },
 "nbformat": 4,
 "nbformat_minor": 4
}
