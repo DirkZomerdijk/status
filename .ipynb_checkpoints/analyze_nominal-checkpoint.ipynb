{
 "cells": [
  {
   "cell_type": "code",
   "execution_count": 1,
   "metadata": {},
   "outputs": [],
   "source": [
    "from setup import *\n",
    "from analyzer import *"
   ]
  },
  {
   "cell_type": "code",
   "execution_count": 22,
   "metadata": {},
   "outputs": [
    {
     "name": "stdout",
     "output_type": "stream",
     "text": [
      "C:/Users/Admin/Code/status_beta/results/*nominal*/***.pkl\n",
      "(2000, 700, 10)\n",
      "similarity_base\t\t 0.2\n",
      "interactions\t\t 1\n",
      "ses_noise\t\t 3\n",
      "repeats\t\t\t 10\n",
      "vul_param\t\t 0.2\n",
      "psr_param\t\t 0.2\n",
      "recover_param\t\t 0.1\n",
      "time\t\t\t 700\n",
      "stress_max\t\t 100\n",
      "noise_seeds\t\t 10\n",
      "prestige beta\t\t 0.005\n",
      "prestige param\t\t 0.2\n",
      "population_shape\t (2000, 16)\n",
      "(2000, 700, 10)\n",
      "similarity_base\t\t 0.2\n",
      "interactions\t\t 1\n",
      "ses_noise\t\t 3\n",
      "repeats\t\t\t 10\n",
      "vul_param\t\t 0.2\n",
      "psr_param\t\t 0.2\n",
      "recover_param\t\t 0.1\n",
      "time\t\t\t 700\n",
      "stress_max\t\t 100\n",
      "noise_seeds\t\t 10\n",
      "prestige beta\t\t 0.005\n",
      "prestige param\t\t 0.2\n",
      "population_shape\t (2000, 16)\n",
      "(2000, 700, 10)\n",
      "similarity_base\t\t 0.2\n",
      "interactions\t\t 1\n",
      "ses_noise\t\t 3\n",
      "repeats\t\t\t 10\n",
      "vul_param\t\t 0.2\n",
      "psr_param\t\t 0.2\n",
      "recover_param\t\t 0.1\n",
      "time\t\t\t 700\n",
      "stress_max\t\t 100\n",
      "noise_seeds\t\t 10\n",
      "prestige beta\t\t 0.005\n",
      "prestige param\t\t 0.2\n",
      "population_shape\t (2000, 16)\n",
      "(2000, 700, 10)\n",
      "similarity_base\t\t 0.2\n",
      "interactions\t\t 1\n",
      "ses_noise\t\t 3\n",
      "repeats\t\t\t 10\n",
      "vul_param\t\t 0.2\n",
      "psr_param\t\t 0.2\n",
      "recover_param\t\t 0.1\n",
      "time\t\t\t 700\n",
      "stress_max\t\t 100\n",
      "noise_seeds\t\t 10\n",
      "prestige beta\t\t 0.005\n",
      "prestige param\t\t 0.2\n",
      "population_shape\t (2000, 16)\n",
      "(2000, 700, 10)\n",
      "similarity_base\t\t 0.2\n",
      "interactions\t\t 1\n",
      "ses_noise\t\t 3\n",
      "repeats\t\t\t 10\n",
      "vul_param\t\t 0.2\n",
      "psr_param\t\t 0.2\n",
      "recover_param\t\t 0.1\n",
      "time\t\t\t 700\n",
      "stress_max\t\t 100\n",
      "noise_seeds\t\t 10\n",
      "prestige beta\t\t 0.005\n",
      "prestige param\t\t 0.2\n",
      "population_shape\t (2000, 16)\n",
      "(2000, 700, 10)\n",
      "similarity_base\t\t 0.2\n",
      "interactions\t\t 1\n",
      "ses_noise\t\t 3\n",
      "repeats\t\t\t 10\n",
      "vul_param\t\t 0.2\n",
      "psr_param\t\t 0.2\n",
      "recover_param\t\t 0.1\n",
      "time\t\t\t 700\n",
      "stress_max\t\t 100\n",
      "noise_seeds\t\t 10\n",
      "prestige beta\t\t 0.005\n",
      "prestige param\t\t 0.2\n",
      "population_shape\t (2000, 16)\n",
      "(2000, 700, 10)\n",
      "similarity_base\t\t 0.2\n",
      "interactions\t\t 1\n",
      "ses_noise\t\t 3\n",
      "repeats\t\t\t 10\n",
      "vul_param\t\t 0.2\n",
      "psr_param\t\t 0.2\n",
      "recover_param\t\t 0.1\n",
      "time\t\t\t 700\n",
      "stress_max\t\t 100\n",
      "noise_seeds\t\t 10\n",
      "prestige beta\t\t 0.005\n",
      "prestige param\t\t 0.2\n",
      "population_shape\t (2000, 16)\n",
      "(2000, 700, 10)\n",
      "similarity_base\t\t 0.2\n",
      "interactions\t\t 1\n",
      "ses_noise\t\t 3\n",
      "repeats\t\t\t 10\n",
      "vul_param\t\t 0.2\n",
      "psr_param\t\t 0.2\n",
      "recover_param\t\t 0.1\n",
      "time\t\t\t 700\n",
      "stress_max\t\t 100\n",
      "noise_seeds\t\t 10\n",
      "prestige beta\t\t 0.005\n",
      "prestige param\t\t 0.2\n",
      "population_shape\t (2000, 16)\n",
      "(2000, 700, 10)\n",
      "similarity_base\t\t 0.2\n",
      "interactions\t\t 1\n",
      "ses_noise\t\t 3\n",
      "repeats\t\t\t 10\n",
      "vul_param\t\t 0.2\n",
      "psr_param\t\t 0.2\n",
      "recover_param\t\t 0.1\n",
      "time\t\t\t 700\n",
      "stress_max\t\t 100\n",
      "noise_seeds\t\t 10\n",
      "prestige beta\t\t 0.005\n",
      "prestige param\t\t 0.2\n",
      "population_shape\t (2000, 16)\n",
      "(2000, 700, 10)\n",
      "similarity_base\t\t 0.2\n",
      "interactions\t\t 1\n",
      "ses_noise\t\t 3\n",
      "repeats\t\t\t 10\n",
      "vul_param\t\t 0.2\n",
      "psr_param\t\t 0.2\n",
      "recover_param\t\t 0.1\n",
      "time\t\t\t 700\n",
      "stress_max\t\t 100\n",
      "noise_seeds\t\t 10\n",
      "prestige beta\t\t 0.005\n",
      "prestige param\t\t 0.2\n",
      "population_shape\t (2000, 16)\n"
     ]
    }
   ],
   "source": [
    "data = open_data_objects(\"*\", \"nominal\")"
   ]
  },
  {
   "cell_type": "code",
   "execution_count": 23,
   "metadata": {},
   "outputs": [
    {
     "data": {
      "text/plain": [
       "array([<analyzer.Analyzer object at 0x000001BF019AC808>,\n",
       "       <analyzer.Analyzer object at 0x000001BF01A15888>,\n",
       "       <analyzer.Analyzer object at 0x000001BF0D9090C8>,\n",
       "       <analyzer.Analyzer object at 0x000001BF0A03F188>,\n",
       "       <analyzer.Analyzer object at 0x000001BF01935248>,\n",
       "       <analyzer.Analyzer object at 0x000001BF09F60108>,\n",
       "       <analyzer.Analyzer object at 0x000001BF019849C8>,\n",
       "       <analyzer.Analyzer object at 0x000001BF01A56388>,\n",
       "       <analyzer.Analyzer object at 0x000001BF01A666C8>,\n",
       "       <analyzer.Analyzer object at 0x000001BF01A56288>], dtype=object)"
      ]
     },
     "execution_count": 23,
     "metadata": {},
     "output_type": "execute_result"
    }
   ],
   "source": [
    "data = np.array(data)\n",
    "data"
   ]
  },
  {
   "cell_type": "code",
   "execution_count": 31,
   "metadata": {},
   "outputs": [],
   "source": [
    "\n",
    "# for dat in data:\n",
    "#     print(dat.stress_m.shape)\n",
    "d = np.concatenate(np.array([dat.stress_m[:, 350:, :] for dat in data]), axis=2)"
   ]
  },
  {
   "cell_type": "code",
   "execution_count": 32,
   "metadata": {},
   "outputs": [
    {
     "data": {
      "image/png": "[encoded data removed]",
      "text/plain": [
       "<Figure size 432x288 with 1 Axes>"
      ]
     },
     "metadata": {
      "needs_background": "light"
     },
     "output_type": "display_data"
    }
   ],
   "source": [
    "for i in np.arange(0, d.shape[2]+1, 10):\n",
    "#     print(i)\n",
    "    plt.scatter(i, np.std(d[:, :, :i])/ np.mean(d[:, :, :i]))\n",
    "#     print(i, np.std(d[:, :, :i]), np.mean(d[:, :, :i]))\n",
    "\n",
    "# np.std(d)/np.mean(d)"
   ]
  },
  {
   "cell_type": "code",
   "execution_count": null,
   "metadata": {},
   "outputs": [],
   "source": []
  },
  {
   "cell_type": "code",
   "execution_count": 6,
   "metadata": {},
   "outputs": [
    {
     "data": {
      "text/plain": [
       "(array([ 5., 13.,  9., 17., 11.,  8.,  5., 12.,  3.,  5.,  2.,  2.,  0.,\n",
       "         1.,  1.,  2.,  2.,  0.,  1.,  1.]),\n",
       " array([0.14239734, 0.15080792, 0.15921848, 0.16762903, 0.1760396 ,\n",
       "        0.18445018, 0.19286074, 0.2012713 , 0.20968187, 0.21809244,\n",
       "        0.226503  , 0.23491356, 0.24332413, 0.2517347 , 0.26014525,\n",
       "        0.26855582, 0.2769664 , 0.28537697, 0.29378754, 0.30219808,\n",
       "        0.31060866], dtype=float32),\n",
       " <a list of 20 Patch objects>)"
      ]
     },
     "execution_count": 6,
     "metadata": {},
     "output_type": "execute_result"
    },
    {
     "data": {
      "image/png": "[encoded data removed]",
      "text/plain": [
       "<Figure size 432x288 with 1 Axes>"
      ]
     },
     "metadata": {
      "needs_background": "light"
     },
     "output_type": "display_data"
    }
   ],
   "source": [
    "plt.hist(np.mean(d, axis =(0,1)), bins=20)"
   ]
  },
  {
   "cell_type": "code",
   "execution_count": 7,
   "metadata": {},
   "outputs": [],
   "source": [
    "dchronic = np.concatenate(np.array([dat.chronic_states[:, 350:, :] for dat in data]), axis=2)"
   ]
  },
  {
   "cell_type": "code",
   "execution_count": 8,
   "metadata": {},
   "outputs": [
    {
     "data": {
      "text/plain": [
       "(2000, 350, 100)"
      ]
     },
     "execution_count": 8,
     "metadata": {},
     "output_type": "execute_result"
    }
   ],
   "source": [
    "dchronic.shape"
   ]
  },
  {
   "cell_type": "code",
   "execution_count": 9,
   "metadata": {},
   "outputs": [
    {
     "data": {
      "text/plain": [
       "(array([ 1.,  0.,  1.,  1.,  4.,  4.,  6.,  4., 11., 13.,  9., 10., 12.,\n",
       "         6.,  7.,  8.,  2.,  0.,  0.,  1.]),\n",
       " array([0.01598714, 0.01645143, 0.01691571, 0.01738   , 0.01784429,\n",
       "        0.01830857, 0.01877286, 0.01923714, 0.01970143, 0.02016571,\n",
       "        0.02063   , 0.02109429, 0.02155857, 0.02202286, 0.02248714,\n",
       "        0.02295143, 0.02341571, 0.02388   , 0.02434429, 0.02480857,\n",
       "        0.02527286]),\n",
       " <a list of 20 Patch objects>)"
      ]
     },
     "execution_count": 9,
     "metadata": {},
     "output_type": "execute_result"
    },
    {
     "data": {
      "image/png": "[encoded data removed]",
      "text/plain": [
       "<Figure size 432x288 with 1 Axes>"
      ]
     },
     "metadata": {
      "needs_background": "light"
     },
     "output_type": "display_data"
    }
   ],
   "source": [
    "plt.hist(np.mean(dchronic, axis =(0,1)), bins=20)"
   ]
  },
  {
   "cell_type": "code",
   "execution_count": 10,
   "metadata": {
    "scrolled": false
   },
   "outputs": [
    {
     "name": "stderr",
     "output_type": "stream",
     "text": [
      "C:\\Users\\Admin\\anaconda3\\lib\\site-packages\\numpy\\core\\_methods.py:209: RuntimeWarning: invalid value encountered in double_scalars\n",
      "  ret = ret.dtype.type(ret / rcount)\n",
      "C:\\Users\\Admin\\anaconda3\\lib\\site-packages\\numpy\\core\\_methods.py:161: RuntimeWarning: invalid value encountered in double_scalars\n",
      "  ret = ret.dtype.type(ret / rcount)\n"
     ]
    },
    {
     "data": {
      "image/png": "[encoded data removed]",
      "text/plain": [
       "<Figure size 432x288 with 1 Axes>"
      ]
     },
     "metadata": {
      "needs_background": "light"
     },
     "output_type": "display_data"
    }
   ],
   "source": [
    "for i in np.arange(0, dchronic.shape[2]+1, 10):\n",
    "#     print(i)\n",
    "    plt.scatter(i, np.std(dchronic[:, :, :i])/ np.mean(dchronic[:, :, :i]))"
   ]
  },
  {
   "cell_type": "code",
   "execution_count": 47,
   "metadata": {},
   "outputs": [
    {
     "data": {
      "image/png": "[encoded data removed]",
      "text/plain": [
       "<Figure size 432x288 with 1 Axes>"
      ]
     },
     "metadata": {
      "needs_background": "light"
     },
     "output_type": "display_data"
    }
   ],
   "source": [
    "for i, d in enumerate(data):\n",
    "    plt.scatter(i, d.df[d.df['chronic_state'] != 0].count()['chronic_state'])"
   ]
  },
  {
   "cell_type": "code",
   "execution_count": 11,
   "metadata": {
    "scrolled": false
   },
   "outputs": [
    {
     "name": "stdout",
     "output_type": "stream",
     "text": [
      "C:/Users/Admin/Code/status_beta/results/*OFAT_N*/*psr**.pkl\n",
      "(2000, 500, 3)\n",
      "similarity_base\t\t 0.2\n",
      "interactions\t\t 1\n",
      "ses_noise\t\t 3\n",
      "repeats\t\t\t 3\n",
      "vul_param\t\t 1\n",
      "psr_param\t\t 0.1\n",
      "recover_param\t\t 0.1\n",
      "time\t\t\t 500\n",
      "stress_max\t\t 100\n",
      "noise_seeds\t\t 100\n",
      "prestige beta\t\t 0.005\n",
      "prestige param\t\t 0.2\n",
      "population_shape\t (2000, 16)\n",
      "(2000, 500, 3)\n",
      "similarity_base\t\t 0.2\n",
      "interactions\t\t 1\n",
      "ses_noise\t\t 3\n",
      "repeats\t\t\t 3\n",
      "vul_param\t\t 1\n",
      "psr_param\t\t 0.5\n",
      "recover_param\t\t 0.1\n",
      "time\t\t\t 500\n",
      "stress_max\t\t 100\n",
      "noise_seeds\t\t 100\n",
      "prestige beta\t\t 0.005\n",
      "prestige param\t\t 0.2\n",
      "population_shape\t (2000, 16)\n",
      "(2000, 500, 3)\n",
      "similarity_base\t\t 0.2\n",
      "interactions\t\t 1\n",
      "ses_noise\t\t 3\n",
      "repeats\t\t\t 3\n",
      "vul_param\t\t 1\n",
      "psr_param\t\t 0.9\n",
      "recover_param\t\t 0.1\n",
      "time\t\t\t 500\n",
      "stress_max\t\t 100\n",
      "noise_seeds\t\t 100\n",
      "prestige beta\t\t 0.005\n",
      "prestige param\t\t 0.2\n",
      "population_shape\t (2000, 16)\n",
      "(2000, 500, 3)\n",
      "similarity_base\t\t 0.2\n",
      "interactions\t\t 1\n",
      "ses_noise\t\t 3\n",
      "repeats\t\t\t 3\n",
      "vul_param\t\t 1\n",
      "psr_param\t\t 0.2\n",
      "recover_param\t\t 0.1\n",
      "time\t\t\t 500\n",
      "stress_max\t\t 100\n",
      "noise_seeds\t\t 100\n",
      "prestige beta\t\t 0.005\n",
      "prestige param\t\t 0.2\n",
      "population_shape\t (2000, 16)\n",
      "(2000, 500, 3)\n",
      "similarity_base\t\t 0.2\n",
      "interactions\t\t 1\n",
      "ses_noise\t\t 3\n",
      "repeats\t\t\t 3\n",
      "vul_param\t\t 1\n",
      "psr_param\t\t 0.6\n",
      "recover_param\t\t 0.1\n",
      "time\t\t\t 500\n",
      "stress_max\t\t 100\n",
      "noise_seeds\t\t 100\n",
      "prestige beta\t\t 0.005\n",
      "prestige param\t\t 0.2\n",
      "population_shape\t (2000, 16)\n",
      "(2000, 500, 3)\n",
      "similarity_base\t\t 0.2\n",
      "interactions\t\t 1\n",
      "ses_noise\t\t 3\n",
      "repeats\t\t\t 3\n",
      "vul_param\t\t 1\n",
      "psr_param\t\t 1\n",
      "recover_param\t\t 0.1\n",
      "time\t\t\t 500\n",
      "stress_max\t\t 100\n",
      "noise_seeds\t\t 100\n",
      "prestige beta\t\t 0.005\n",
      "prestige param\t\t 0.2\n",
      "population_shape\t (2000, 16)\n",
      "(2000, 500, 3)\n",
      "similarity_base\t\t 0.2\n",
      "interactions\t\t 1\n",
      "ses_noise\t\t 3\n",
      "repeats\t\t\t 3\n",
      "vul_param\t\t 1\n",
      "psr_param\t\t 0.3\n",
      "recover_param\t\t 0.1\n",
      "time\t\t\t 500\n",
      "stress_max\t\t 100\n",
      "noise_seeds\t\t 100\n",
      "prestige beta\t\t 0.005\n",
      "prestige param\t\t 0.2\n",
      "population_shape\t (2000, 16)\n",
      "(2000, 500, 3)\n",
      "similarity_base\t\t 0.2\n",
      "interactions\t\t 1\n",
      "ses_noise\t\t 3\n",
      "repeats\t\t\t 3\n",
      "vul_param\t\t 1\n",
      "psr_param\t\t 0.7\n",
      "recover_param\t\t 0.1\n",
      "time\t\t\t 500\n",
      "stress_max\t\t 100\n",
      "noise_seeds\t\t 100\n",
      "prestige beta\t\t 0.005\n",
      "prestige param\t\t 0.2\n",
      "population_shape\t (2000, 16)\n",
      "(2000, 500, 3)\n",
      "similarity_base\t\t 0.2\n",
      "interactions\t\t 1\n",
      "ses_noise\t\t 3\n",
      "repeats\t\t\t 3\n",
      "vul_param\t\t 1\n",
      "psr_param\t\t 0\n",
      "recover_param\t\t 0.1\n",
      "time\t\t\t 500\n",
      "stress_max\t\t 100\n",
      "noise_seeds\t\t 100\n",
      "prestige beta\t\t 0.005\n",
      "prestige param\t\t 0.2\n",
      "population_shape\t (2000, 16)\n",
      "(2000, 500, 3)\n",
      "similarity_base\t\t 0.2\n",
      "interactions\t\t 1\n",
      "ses_noise\t\t 3\n",
      "repeats\t\t\t 3\n",
      "vul_param\t\t 1\n",
      "psr_param\t\t 0.4\n",
      "recover_param\t\t 0.1\n",
      "time\t\t\t 500\n",
      "stress_max\t\t 100\n",
      "noise_seeds\t\t 100\n",
      "prestige beta\t\t 0.005\n",
      "prestige param\t\t 0.2\n",
      "population_shape\t (2000, 16)\n",
      "(2000, 500, 3)\n",
      "similarity_base\t\t 0.2\n",
      "interactions\t\t 1\n",
      "ses_noise\t\t 3\n",
      "repeats\t\t\t 3\n",
      "vul_param\t\t 1\n",
      "psr_param\t\t 0.8\n",
      "recover_param\t\t 0.1\n",
      "time\t\t\t 500\n",
      "stress_max\t\t 100\n",
      "noise_seeds\t\t 100\n",
      "prestige beta\t\t 0.005\n",
      "prestige param\t\t 0.2\n",
      "population_shape\t (2000, 16)\n"
     ]
    }
   ],
   "source": []
  },
  {
   "cell_type": "code",
   "execution_count": 52,
   "metadata": {},
   "outputs": [
    {
     "name": "stdout",
     "output_type": "stream",
     "text": [
      "C:/Users/Admin/Code/status_beta/results/*OFAT_N*/*noise**.pkl\n",
      "(2000, 500, 3)\n",
      "similarity_base\t\t 0.2\n",
      "interactions\t\t 1\n",
      "ses_noise\t\t 0\n",
      "repeats\t\t\t 3\n",
      "vul_param\t\t 1\n",
      "psr_param\t\t 0.2\n",
      "recover_param\t\t 0.1\n",
      "time\t\t\t 500\n",
      "stress_max\t\t 100\n",
      "noise_seeds\t\t 100\n",
      "prestige beta\t\t 0.005\n",
      "prestige param\t\t 0.2\n",
      "population_shape\t (2000, 16)\n",
      "(2000, 500, 3)\n",
      "similarity_base\t\t 0.2\n",
      "interactions\t\t 1\n",
      "ses_noise\t\t 0.5\n",
      "repeats\t\t\t 3\n",
      "vul_param\t\t 1\n",
      "psr_param\t\t 0.2\n",
      "recover_param\t\t 0.1\n",
      "time\t\t\t 500\n",
      "stress_max\t\t 100\n",
      "noise_seeds\t\t 100\n",
      "prestige beta\t\t 0.005\n",
      "prestige param\t\t 0.2\n",
      "population_shape\t (2000, 16)\n",
      "(2000, 500, 3)\n",
      "similarity_base\t\t 0.2\n",
      "interactions\t\t 1\n",
      "ses_noise\t\t 1\n",
      "repeats\t\t\t 3\n",
      "vul_param\t\t 1\n",
      "psr_param\t\t 0.2\n",
      "recover_param\t\t 0.1\n",
      "time\t\t\t 500\n",
      "stress_max\t\t 100\n",
      "noise_seeds\t\t 100\n",
      "prestige beta\t\t 0.005\n",
      "prestige param\t\t 0.2\n",
      "population_shape\t (2000, 16)\n",
      "(2000, 500, 3)\n",
      "similarity_base\t\t 0.2\n",
      "interactions\t\t 1\n",
      "ses_noise\t\t 3\n",
      "repeats\t\t\t 3\n",
      "vul_param\t\t 1\n",
      "psr_param\t\t 0.2\n",
      "recover_param\t\t 0.1\n",
      "time\t\t\t 500\n",
      "stress_max\t\t 100\n",
      "noise_seeds\t\t 100\n",
      "prestige beta\t\t 0.005\n",
      "prestige param\t\t 0.2\n",
      "population_shape\t (2000, 16)\n",
      "(2000, 500, 3)\n",
      "similarity_base\t\t 0.2\n",
      "interactions\t\t 1\n",
      "ses_noise\t\t 1.5\n",
      "repeats\t\t\t 3\n",
      "vul_param\t\t 1\n",
      "psr_param\t\t 0.2\n",
      "recover_param\t\t 0.1\n",
      "time\t\t\t 500\n",
      "stress_max\t\t 100\n",
      "noise_seeds\t\t 100\n",
      "prestige beta\t\t 0.005\n",
      "prestige param\t\t 0.2\n",
      "population_shape\t (2000, 16)\n",
      "(2000, 500, 3)\n",
      "similarity_base\t\t 0.2\n",
      "interactions\t\t 1\n",
      "ses_noise\t\t 4\n",
      "repeats\t\t\t 3\n",
      "vul_param\t\t 1\n",
      "psr_param\t\t 0.2\n",
      "recover_param\t\t 0.1\n",
      "time\t\t\t 500\n",
      "stress_max\t\t 100\n",
      "noise_seeds\t\t 100\n",
      "prestige beta\t\t 0.005\n",
      "prestige param\t\t 0.2\n",
      "population_shape\t (2000, 16)\n",
      "(2000, 500, 3)\n",
      "similarity_base\t\t 0.2\n",
      "interactions\t\t 1\n",
      "ses_noise\t\t 2\n",
      "repeats\t\t\t 3\n",
      "vul_param\t\t 1\n",
      "psr_param\t\t 0.2\n",
      "recover_param\t\t 0.1\n",
      "time\t\t\t 500\n",
      "stress_max\t\t 100\n",
      "noise_seeds\t\t 100\n",
      "prestige beta\t\t 0.005\n",
      "prestige param\t\t 0.2\n",
      "population_shape\t (2000, 16)\n",
      "(2000, 500, 3)\n",
      "similarity_base\t\t 0.2\n",
      "interactions\t\t 1\n",
      "ses_noise\t\t 5\n",
      "repeats\t\t\t 3\n",
      "vul_param\t\t 1\n",
      "psr_param\t\t 0.2\n",
      "recover_param\t\t 0.1\n",
      "time\t\t\t 500\n",
      "stress_max\t\t 100\n",
      "noise_seeds\t\t 100\n",
      "prestige beta\t\t 0.005\n",
      "prestige param\t\t 0.2\n",
      "population_shape\t (2000, 16)\n",
      "(2000, 500, 3)\n",
      "similarity_base\t\t 0.2\n",
      "interactions\t\t 1\n",
      "ses_noise\t\t 2.5\n",
      "repeats\t\t\t 3\n",
      "vul_param\t\t 1\n",
      "psr_param\t\t 0.2\n",
      "recover_param\t\t 0.1\n",
      "time\t\t\t 500\n",
      "stress_max\t\t 100\n",
      "noise_seeds\t\t 100\n",
      "prestige beta\t\t 0.005\n",
      "prestige param\t\t 0.2\n",
      "population_shape\t (2000, 16)\n",
      "(2000, 500, 3)\n",
      "similarity_base\t\t 0.2\n",
      "interactions\t\t 1\n",
      "ses_noise\t\t 6\n",
      "repeats\t\t\t 3\n",
      "vul_param\t\t 1\n",
      "psr_param\t\t 0.2\n",
      "recover_param\t\t 0.1\n",
      "time\t\t\t 500\n",
      "stress_max\t\t 100\n",
      "noise_seeds\t\t 100\n",
      "prestige beta\t\t 0.005\n",
      "prestige param\t\t 0.2\n",
      "population_shape\t (2000, 16)\n"
     ]
    }
   ],
   "source": [
    "#Analyze OFAT\n",
    "ofatd = np.array(open_data_objects(\"noise*\", \"OFAT_N\"))\n",
    "data = ofatd\n",
    "param = \"similarity_base\""
   ]
  },
  {
   "cell_type": "code",
   "execution_count": 51,
   "metadata": {},
   "outputs": [
    {
     "data": {
      "image/png": "[encoded data removed]",
      "text/plain": [
       "<Figure size 432x288 with 1 Axes>"
      ]
     },
     "metadata": {
      "needs_background": "light"
     },
     "output_type": "display_data"
    },
    {
     "data": {
      "image/png": "[encoded data removed]",
      "text/plain": [
       "<Figure size 432x288 with 1 Axes>"
      ]
     },
     "metadata": {
      "needs_background": "light"
     },
     "output_type": "display_data"
    },
    {
     "data": {
      "image/png": "[encoded data removed]",
      "text/plain": [
       "<Figure size 432x288 with 1 Axes>"
      ]
     },
     "metadata": {
      "needs_background": "light"
     },
     "output_type": "display_data"
    }
   ],
   "source": [
    "\n",
    "arr = []\n",
    "for dat in data:\n",
    "    arr.append(dat.params[param])\n",
    "\n",
    "idx = np.argsort(arr)\n",
    "data = [data[i] for i in idx]\n",
    "\n",
    "for dat in data:\n",
    "    plt.scatter(dat.params[param], dat.df['stress'].mean(), c=\"black\")\n",
    "plt.show()\n",
    "\n",
    "for dat in data:\n",
    "    plt.scatter(dat.params[param], dat.df['chronic_state'].mean(), c=\"black\")\n",
    "plt.show()\n",
    "\n",
    "for dat in data:\n",
    "    plt.scatter(dat.params[param], dat.df[dat.df['chronic_state'] != 0].count()['chronic_state'], c=\"blue\")\n",
    "plt.show()"
   ]
  },
  {
   "cell_type": "code",
   "execution_count": null,
   "metadata": {},
   "outputs": [],
   "source": []
  }
 ],
 "metadata": {
  "kernelspec": {
   "display_name": "Python 3",
   "language": "python",
   "name": "python3"
  },
  "language_info": {
   "codemirror_mode": {
    "name": "ipython",
    "version": 3
   },
   "file_extension": ".py",
   "mimetype": "text/x-python",
   "name": "python",
   "nbconvert_exporter": "python",
   "pygments_lexer": "ipython3",
   "version": "3.7.6"
  }
 },
 "nbformat": 4,
 "nbformat_minor": 4
}
